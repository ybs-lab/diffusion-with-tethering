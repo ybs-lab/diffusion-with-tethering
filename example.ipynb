{
 "cells": [
  {
   "cell_type": "code",
   "execution_count": null,
   "id": "75d039dc",
   "metadata": {},
   "outputs": [],
   "source": [
    "%matplotlib notebook\n",
    "import numpy as np\n",
    "import matplotlib.pyplot as plt\n",
    "from matplotlib.collections import LineCollection\n",
    "from matplotlib.colors import LinearSegmentedColormap\n",
    "import seaborn as sns\n",
    "from model import generate_synthetic_trajectories, pack_model_params\n",
    "from em_algorithm import em_viterbi_optimization"
   ]
  },
  {
   "cell_type": "markdown",
   "id": "c5901e72",
   "metadata": {},
   "source": [
    "### Generate a dataframe with the trajectory data of 10 particles"
   ]
  },
  {
   "cell_type": "markdown",
   "id": "5b57bacb",
   "metadata": {},
   "source": [
    "#### For experimental data, please load a df which includes columns particle,t,x,y and declare dt, N_steps and N_particles, as well as an initial guess for the four model parameters, then define model_params = pack_model_params(T_stick,T_unstick,D,A,dt)"
   ]
  },
  {
   "cell_type": "code",
   "execution_count": null,
   "id": "d841ca70",
   "metadata": {},
   "outputs": [],
   "source": [
    "T_stick, T_unstick, D, A = 100, 100, 1, 1\n",
    "dt = 10\n",
    "T = 1e3\n",
    "N_steps = int(T/dt)\n",
    "N_particles = 10\n",
    "df, model_params = generate_synthetic_trajectories(N_steps,N_particles,dt,T_stick,T_unstick,D,A,\n",
    "                                                   random_seed=1)"
   ]
  },
  {
   "cell_type": "markdown",
   "id": "56203dd2",
   "metadata": {},
   "source": [
    "### Run the algorithm over all particles and apply bootstrap procedure"
   ]
  },
  {
   "cell_type": "code",
   "execution_count": null,
   "id": "e2898bbf",
   "metadata": {},
   "outputs": [],
   "source": [
    "N_bootstrap = 10\n",
    "alg_output_list = []\n",
    "bootstrap_estimates_list = []\n",
    "for n in range(N_particles):\n",
    "    X_arr = df.loc[df.particle==n,[\"x\",\"y\"]].values\n",
    "    alg_output_list.append(em_viterbi_optimization(X_arr,model_params,dt,verbose=False))        \n",
    "    \n",
    "    #Apply bootstrap correction: generate synthetic trajectories based on the algorithm's output    \n",
    "    output_params = alg_output_list[n][0][-1]\n",
    "    if np.isnan(output_params).any():\n",
    "        bootstrap_estimates_list.append(np.array([np.nan]*4))\n",
    "    else:\n",
    "        bootstrap_output = []\n",
    "        for m in range(N_bootstrap):\n",
    "            model_params_for_bootstrap = pack_model_params(*output_params,dt)\n",
    "            df_bootstrap,model_params_bootstrap = generate_synthetic_trajectories(N_steps,N_particles,dt,*output_params,random_seed=None)\n",
    "            bootstrap_output.append(em_viterbi_optimization(df_bootstrap[[\"x\",\"y\"]].values,model_params_bootstrap,dt,verbose=False)[0][-1])\n",
    "        bootstrap_output = np.array(bootstrap_output)\n",
    "        bootstrap_estimates_list.append(2*output_params-np.median(bootstrap_output,axis=0)) # consider mean instead of median"
   ]
  },
  {
   "cell_type": "markdown",
   "id": "e7455395",
   "metadata": {},
   "source": [
    "### Visualize the trajectories (darker shade is tethered)"
   ]
  },
  {
   "cell_type": "code",
   "execution_count": null,
   "id": "6944933b",
   "metadata": {},
   "outputs": [],
   "source": [
    "fig,ax=plt.subplots(figsize=(7,7))\n",
    "colors = plt.cm.get_cmap(\"tab10\").colors\n",
    "for particle,particle_df in df.groupby(\"particle\"):\n",
    "    bright_color = np.array(colors[particle % len(colors)])\n",
    "    dark_color = bright_color/2\n",
    "    cmap = LinearSegmentedColormap.from_list(\"my_cmap\", (bright_color,dark_color), N=2)\n",
    "    xy = particle_df[[\"x\",\"y\"]].values.reshape(-1,1,2)\n",
    "    segments = np.hstack([xy[:-1], xy[1:]])\n",
    "    coll = LineCollection(segments, cmap=cmap)\n",
    "    state_est = alg_output_list[particle][4].flatten() #true_state = df.state.values\n",
    "    coll.set_array(state_est)\n",
    "    ax.add_collection(coll)\n",
    "\n",
    "    \n",
    "ax.autoscale_view()\n",
    "ax.set_xlabel(\"x\")\n",
    "ax.set_ylabel(\"y\")\n",
    "ax.set_aspect(\"equal\")"
   ]
  },
  {
   "cell_type": "markdown",
   "id": "40566b2d",
   "metadata": {},
   "source": [
    "### Compare the true hidden states versus the algorithm's prediction"
   ]
  },
  {
   "cell_type": "code",
   "execution_count": null,
   "id": "4c51a829",
   "metadata": {},
   "outputs": [],
   "source": [
    "fig,ax=plt.subplots(N_particles//2,2,sharex=True,sharey=True,figsize=(14,10))\n",
    "for n in range(N_particles):\n",
    "    cur_ax = ax[n//2,n%2]\n",
    "    cur_ax.plot(df.loc[df.particle==n,\"state\"].values,label=\"True S\")\n",
    "    cur_ax.plot(alg_output_list[n][4].flatten(),\"--\",label=\"Est S\")\n",
    "    cur_ax.set_title(n)\n",
    "    if n%2 == 0:\n",
    "        cur_ax.set_ylabel(\"S\")\n",
    "    if n//2 == N_particles//2:\n",
    "        cur_ax.set_xlabel(\"t\")\n",
    "leg=ax[0,0].legend()"
   ]
  },
  {
   "cell_type": "markdown",
   "id": "634d5b4a",
   "metadata": {},
   "source": [
    "### Compare the estimated model parameters with the true model parameters"
   ]
  },
  {
   "cell_type": "code",
   "execution_count": null,
   "id": "aef58b2f",
   "metadata": {},
   "outputs": [],
   "source": [
    "fig,ax=plt.subplots(2,2)\n",
    "params_str = [\"T0\",\"T1\",\"D\",\"A\"]\n",
    "true_params = [T_stick, T_unstick, D, A]\n",
    "for n_param in range(4):\n",
    "    cur_ax = ax[n_param//2,n_param%2]\n",
    "    sns.histplot([alg_output_list[n][0][-1][n_param] for n in range(N_particles)], ax=cur_ax)\n",
    "    cur_ax.set_ylabel(\"\")\n",
    "    cur_ax.set_xlabel(params_str[n_param])\n",
    "    cur_ax.plot(true_params[n_param]*np.ones(2),cur_ax.get_ylim(),\"k--\",linewidth=2)\n",
    "fig.tight_layout()"
   ]
  }
 ],
 "metadata": {
  "kernelspec": {
   "display_name": "Python 3 (ipykernel)",
   "language": "python",
   "name": "python3"
  },
  "language_info": {
   "codemirror_mode": {
    "name": "ipython",
    "version": 3
   },
   "file_extension": ".py",
   "mimetype": "text/x-python",
   "name": "python",
   "nbconvert_exporter": "python",
   "pygments_lexer": "ipython3",
   "version": "3.11.4"
  }
 },
 "nbformat": 4,
 "nbformat_minor": 5
}
